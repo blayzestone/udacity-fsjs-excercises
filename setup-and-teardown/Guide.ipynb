{
 "cells": [
  {
   "cell_type": "markdown",
   "metadata": {
    "editable": true
   },
   "source": [
    "This exercise includes a preconfigured <b>Jasmine</b> and <b>TypeScript</b> project. The only file you should need to modify is `indexSpec.ts`.\n",
    "\n",
    "Your job is to use the <b>setup/teardown</b> and organizational skills you have learned to better organize the specs. \n",
    "\n",
    "If you run the test script, you will see one spec fails. Wait until you have organized your tests to fix the issue.\n",
    "\n",
    "You should mimic the file structure of the src folder and create individual files for each module you are importing. \n",
    "\n",
    "Additionally, uses <b>parent and child suites</b> to organize the specs so that it is clear what each parring does and what utility it belongs to when viewin the results in the spec reporter. \n",
    "\n",
    "Once your specs are organized. Track down where the error is based on the information from the <b>spec reporter</b> and correct it. \n",
    "\n",
    "Available scripts can be found in `package.json`.\n",
    "\n",
    "NOTE: a popup of \"Renderer Failure: tsconfig.json\" may open when starting this project. It is safe to ignore this error. Error is due to the comments in tsconfig.json not being considered valid JSON; however, it is generally considered safe to place comments in JSON config files."
   ]
  }
 ],
 "metadata": {
  "kernelspec": {
   "display_name": "Python 3",
   "language": "python",
   "name": "python3"
  },
  "language_info": {
   "codemirror_mode": {
    "name": "ipython",
    "version": 3
   },
   "file_extension": ".py",
   "mimetype": "text/x-python",
   "name": "python",
   "nbconvert_exporter": "python",
   "pygments_lexer": "ipython3",
   "version": "3.6.3"
  },
  "ulab_nb_type": "guided"
 },
 "nbformat": 4,
 "nbformat_minor": 4
}
